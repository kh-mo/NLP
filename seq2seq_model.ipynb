{
 "cells": [
  {
   "cell_type": "markdown",
   "metadata": {},
   "source": [
    "# seq2seq model"
   ]
  },
  {
   "cell_type": "code",
   "execution_count": 5,
   "metadata": {},
   "outputs": [],
   "source": [
    "import numpy as np\n",
    "import tensorflow as tf\n",
    "from itertools import chain"
   ]
  },
  {
   "cell_type": "markdown",
   "metadata": {},
   "source": [
    "### 데이터"
   ]
  },
  {
   "cell_type": "code",
   "execution_count": 6,
   "metadata": {},
   "outputs": [],
   "source": [
    "text = [[['<sos>','a','b','c','d','e','<eos>'],['<sos>','b','c','d','e','f','<eos>'],['<sos>','c','d','e','f','g','<eos>']],\n",
    "        [['<sos>','1','2','3','4','5','<eos>'],['<sos>','2','3','4','5','6','<eos>'],['<sos>','3','4','5','6','7','<eos>']]]\n",
    "target = [[['<sos>','c','d','e','<eos>']],\n",
    "          [['<sos>','3','4','5','<eos>']]]\n",
    "dic = ['<sos>','<eos>','a','b','c','d','e','f','g','1','2','3','4','5','6','7']"
   ]
  },
  {
   "cell_type": "markdown",
   "metadata": {},
   "source": [
    "### 배치 구성"
   ]
  },
  {
   "cell_type": "code",
   "execution_count": 7,
   "metadata": {},
   "outputs": [],
   "source": [
    "fedic_encoder_x = []\n",
    "fedic_encoder_seq_len_except_pad = []\n",
    "for i in range(len(text)):\n",
    "    unnested_text = list(chain(*text[i]))\n",
    "    fedic_encoder_x.append([dic.index(i) for i in unnested_text])\n",
    "    fedic_encoder_seq_len_except_pad.append(len(unnested_text))\n",
    "\n",
    "fedic_decoder_x = []\n",
    "fedic_decoder_seq_len_except_pad = []\n",
    "real_label = []\n",
    "for i in range(len(target)):\n",
    "    unnested_text = list(chain(*target[i]))\n",
    "    fedic_decoder_x.append([dic.index(i) for i in unnested_text[:-1]])\n",
    "    fedic_decoder_seq_len_except_pad.append(len(unnested_text[:-1]))\n",
    "    real_label.append([dic.index(i) for i in unnested_text[1:]])"
   ]
  },
  {
   "cell_type": "code",
   "execution_count": 8,
   "metadata": {},
   "outputs": [
    {
     "data": {
      "text/plain": [
       "[[0, 2, 3, 4, 5, 6, 1, 0, 3, 4, 5, 6, 7, 1, 0, 4, 5, 6, 7, 8, 1],\n",
       " [0, 9, 10, 11, 12, 13, 1, 0, 10, 11, 12, 13, 14, 1, 0, 11, 12, 13, 14, 15, 1]]"
      ]
     },
     "execution_count": 8,
     "metadata": {},
     "output_type": "execute_result"
    }
   ],
   "source": [
    "fedic_encoder_x"
   ]
  },
  {
   "cell_type": "code",
   "execution_count": 9,
   "metadata": {},
   "outputs": [
    {
     "data": {
      "text/plain": [
       "[21, 21]"
      ]
     },
     "execution_count": 9,
     "metadata": {},
     "output_type": "execute_result"
    }
   ],
   "source": [
    "fedic_encoder_seq_len_except_pad"
   ]
  },
  {
   "cell_type": "code",
   "execution_count": 8,
   "metadata": {},
   "outputs": [
    {
     "data": {
      "text/plain": [
       "[[0, 4, 5, 6], [0, 11, 12, 13]]"
      ]
     },
     "execution_count": 8,
     "metadata": {},
     "output_type": "execute_result"
    }
   ],
   "source": [
    "fedic_decoder_x"
   ]
  },
  {
   "cell_type": "code",
   "execution_count": 10,
   "metadata": {},
   "outputs": [
    {
     "data": {
      "text/plain": [
       "[4, 4]"
      ]
     },
     "execution_count": 10,
     "metadata": {},
     "output_type": "execute_result"
    }
   ],
   "source": [
    "fedic_decoder_seq_len_except_pad"
   ]
  },
  {
   "cell_type": "code",
   "execution_count": 11,
   "metadata": {},
   "outputs": [
    {
     "data": {
      "text/plain": [
       "[[4, 5, 6, 1], [11, 12, 13, 1]]"
      ]
     },
     "execution_count": 11,
     "metadata": {},
     "output_type": "execute_result"
    }
   ],
   "source": [
    "real_label"
   ]
  },
  {
   "cell_type": "markdown",
   "metadata": {},
   "source": [
    "### 파라미터 설정"
   ]
  },
  {
   "cell_type": "code",
   "execution_count": 12,
   "metadata": {},
   "outputs": [],
   "source": [
    "number_of_document = None\n",
    "number_of_encoder_word = None\n",
    "number_of_decoder_word = None\n",
    "lstm_hidden_size = 10\n",
    "voca_size = len(dic)\n",
    "word_embedding_size = 2\n",
    "max_gradient_norm = 0.1\n",
    "learning_rate = 1e-4"
   ]
  },
  {
   "cell_type": "markdown",
   "metadata": {},
   "source": [
    "### label"
   ]
  },
  {
   "cell_type": "code",
   "execution_count": 13,
   "metadata": {},
   "outputs": [],
   "source": [
    "y = tf.placeholder(dtype=tf.int32, shape=[number_of_document, number_of_decoder_word])"
   ]
  },
  {
   "cell_type": "markdown",
   "metadata": {},
   "source": [
    "### encoder"
   ]
  },
  {
   "cell_type": "code",
   "execution_count": 14,
   "metadata": {},
   "outputs": [],
   "source": [
    "encoder_x = tf.placeholder(dtype=tf.int32, shape=[number_of_document, number_of_encoder_word])\n",
    "source_sequence_lengths = tf.placeholder(dtype=tf.int32, shape=[number_of_document])\n",
    "embedding_matrix = tf.get_variable(name=\"embeding_matrix\", shape=[voca_size, word_embedding_size],\n",
    "                                   dtype=tf.float32, initializer=tf.truncated_normal_initializer())\n",
    "encoder_emb_inp = tf.nn.embedding_lookup(params=embedding_matrix, ids=encoder_x, name=\"encoder_emb_inp\")\n",
    "encoder_cell = tf.nn.rnn_cell.LSTMCell(num_units=lstm_hidden_size,\n",
    "                                       initializer=tf.contrib.layers.variance_scaling_initializer())\n",
    "encoder_outputs, encoder_final_hidden_state = tf.nn.dynamic_rnn(cell=encoder_cell , inputs=encoder_emb_inp,\n",
    "                                                                sequence_length=source_sequence_lengths, dtype=tf.float32,\n",
    "                                                                scope=\"encoder_LSTM\")"
   ]
  },
  {
   "cell_type": "markdown",
   "metadata": {},
   "source": [
    "### decoder"
   ]
  },
  {
   "cell_type": "code",
   "execution_count": 15,
   "metadata": {},
   "outputs": [],
   "source": [
    "decoder_x = tf.placeholder(dtype=tf.int32, shape=[number_of_document, number_of_decoder_word])\n",
    "decoder_lengths = tf.placeholder(dtype=tf.int32, shape=[number_of_document])\n",
    "decoder_emb_inp = tf.nn.embedding_lookup(params=embedding_matrix, ids=decoder_x, name=\"decoder_embedded_x\")\n",
    "helper = tf.contrib.seq2seq.TrainingHelper(decoder_emb_inp, decoder_lengths)\n",
    "decoder_cell = tf.nn.rnn_cell.LSTMCell(num_units=lstm_hidden_size, initializer=tf.contrib.layers.variance_scaling_initializer())\n",
    "decoder = tf.contrib.seq2seq.BasicDecoder(decoder_cell, helper, encoder_final_hidden_state, output_layer=tf.layers.Dense(voca_size))\n",
    "decoder_outputs, decoder_final_hidden_state, decoder_final_sequence_length = tf.contrib.seq2seq.dynamic_decode(decoder) # decoder_outputs=logits\n",
    "logits = decoder_outputs.rnn_output"
   ]
  },
  {
   "cell_type": "markdown",
   "metadata": {},
   "source": [
    "### loss"
   ]
  },
  {
   "cell_type": "code",
   "execution_count": 16,
   "metadata": {},
   "outputs": [],
   "source": [
    "crossent = tf.nn.softmax_cross_entropy_with_logits_v2(labels=tf.one_hot(y,voca_size), logits=logits)\n",
    "train_loss = tf.reduce_sum(crossent)"
   ]
  },
  {
   "cell_type": "markdown",
   "metadata": {},
   "source": [
    "### calculate and clip gradients"
   ]
  },
  {
   "cell_type": "code",
   "execution_count": 17,
   "metadata": {},
   "outputs": [],
   "source": [
    "params = tf.trainable_variables()\n",
    "gradients = tf.gradients(train_loss, params)\n",
    "clipped_gradients, _ = tf.clip_by_global_norm(gradients, max_gradient_norm) # gradient exploding 방지"
   ]
  },
  {
   "cell_type": "markdown",
   "metadata": {},
   "source": [
    "### optimization"
   ]
  },
  {
   "cell_type": "code",
   "execution_count": 18,
   "metadata": {},
   "outputs": [],
   "source": [
    "optimizer = tf.train.AdamOptimizer(learning_rate)\n",
    "update_step = optimizer.apply_gradients(zip(clipped_gradients, params))"
   ]
  },
  {
   "cell_type": "markdown",
   "metadata": {},
   "source": [
    "### training"
   ]
  },
  {
   "cell_type": "code",
   "execution_count": 20,
   "metadata": {},
   "outputs": [
    {
     "name": "stdout",
     "output_type": "stream",
     "text": [
      "sentence :  ['bddd', 'eeee'] loss :  22.323618\n",
      "sentence :  ['ddd<eos>', '33<eos><eos>'] loss :  19.67084\n",
      "sentence :  ['ddd<eos>', '3<eos><eos><eos>'] loss :  15.852428\n",
      "sentence :  ['cd<eos><eos>', '33<eos><eos>'] loss :  12.062802\n",
      "sentence :  ['cd<eos><eos>', '33<eos><eos>'] loss :  9.387261\n",
      "sentence :  ['cde<eos>', '34<eos><eos>'] loss :  7.5083013\n",
      "sentence :  ['cde<eos>', '345<eos>'] loss :  6.0009317\n",
      "sentence :  ['cde<eos>', '345<eos>'] loss :  4.6996107\n",
      "sentence :  ['cde<eos>', '345<eos>'] loss :  3.5801916\n",
      "sentence :  ['cde<eos>', '345<eos>'] loss :  2.732616\n"
     ]
    }
   ],
   "source": [
    "sess = tf.Session()\n",
    "sess.run(tf.global_variables_initializer())\n",
    "\n",
    "for i in range(5000):\n",
    "    _ = sess.run(update_step, feed_dict={encoder_x:fedic_encoder_x, source_sequence_lengths:fedic_encoder_seq_len_except_pad, \n",
    "                                         decoder_x:fedic_decoder_x, decoder_lengths:fedic_decoder_seq_len_except_pad, y:real_label})\n",
    "    if i%500 == 0 :\n",
    "        pred, pred_loss = sess.run([tf.argmax(tf.nn.softmax(logits), axis=2), train_loss], \n",
    "                          feed_dict={encoder_x: fedic_encoder_x, source_sequence_lengths: fedic_encoder_seq_len_except_pad,\n",
    "                                     decoder_x: fedic_decoder_x, decoder_lengths: fedic_decoder_seq_len_except_pad, y: real_label})\n",
    "        print_list = []\n",
    "        for i in range(len(pred)):\n",
    "            sen = \"\"\n",
    "            for j in range(len(pred[i])):\n",
    "                sen += dic[pred[i][j]]\n",
    "            print_list.append(sen)\n",
    "\n",
    "        print(\"sentence : \", print_list, \"loss : \", pred_loss)"
   ]
  }
 ],
 "metadata": {
  "anaconda-cloud": {},
  "kernelspec": {
   "display_name": "Python 3",
   "language": "python",
   "name": "python3"
  },
  "language_info": {
   "codemirror_mode": {
    "name": "ipython",
    "version": 3
   },
   "file_extension": ".py",
   "mimetype": "text/x-python",
   "name": "python",
   "nbconvert_exporter": "python",
   "pygments_lexer": "ipython3",
   "version": "3.6.5"
  }
 },
 "nbformat": 4,
 "nbformat_minor": 2
}
