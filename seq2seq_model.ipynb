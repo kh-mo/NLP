{
 "cells": [
  {
   "cell_type": "markdown",
   "metadata": {},
   "source": [
    "# seq2seq model"
   ]
  },
  {
   "cell_type": "code",
   "execution_count": 2,
   "metadata": {},
   "outputs": [],
   "source": [
    "import numpy as np\n",
    "import tensorflow as tf\n",
    "from itertools import chain"
   ]
  },
  {
   "cell_type": "markdown",
   "metadata": {},
   "source": [
    "### 학습용 데이터"
   ]
  },
  {
   "cell_type": "code",
   "execution_count": 3,
   "metadata": {},
   "outputs": [],
   "source": [
    "source = [['<sos>', '타임', ' ', '아웃', '<eos>'],\n",
    "          ['<sos>', '너무', ' ', '자랑스러워', '<eos>'],\n",
    "          ['<sos>', '판다', '랑', ' ', '나', '는', ' ', '오늘', ' ', '못', ' ', '갈', ' ', '거', ' ', '같아', '<eos>']]\n",
    "\n",
    "target = [['<sos>', 'time', ' ', 'out', '<eos>'],\n",
    "          ['<sos>', 'i', ' ', 'am', ' ', 'proud', ' ', 'of', ' ', 'you', '<eos>'],\n",
    "          ['<sos>', 'pan', ' ', 'and', ' ', 'i', ' ', 'can\\'t', ' ', 'make', ' ', 'it', ' ', 'today', '<eos>']]\n",
    "\n",
    "dic = list(set(list(chain(*source)) + list(chain(*target)))) + [\"<pad>\"]"
   ]
  },
  {
   "cell_type": "markdown",
   "metadata": {},
   "source": [
    "### 배치 구성"
   ]
  },
  {
   "cell_type": "code",
   "execution_count": 4,
   "metadata": {},
   "outputs": [],
   "source": [
    "fedic_encoder_seq_len_except_pad = [len(i) for i in source]\n",
    "fedic_encoder_x = []\n",
    "for sentence in source:\n",
    "    if len(sentence) == max(fedic_encoder_seq_len_except_pad):\n",
    "        fedic_encoder_x.append([dic.index(i) for i in sentence])\n",
    "    else:\n",
    "        sentence += ['<pad>']*(max(fedic_encoder_seq_len_except_pad) - len(sentence))\n",
    "        fedic_encoder_x.append([dic.index(i) for i in sentence])\n",
    "\n",
    "fedic_decoder_seq_len_except_pad = [len(i)-1 for i in target]\n",
    "fedic_decoder_x = []\n",
    "real_label = []\n",
    "for sentence in target:\n",
    "    if (len(sentence)-1) == max(fedic_decoder_seq_len_except_pad):\n",
    "        fedic_decoder_x.append([dic.index(i) for i in sentence[:-1]])\n",
    "        real_label.append([dic.index(i) for i in sentence[1:]])\n",
    "    else:\n",
    "        sentence += ['<pad>']*(max(fedic_decoder_seq_len_except_pad) - len(sentence) + 1)\n",
    "        fedic_decoder_x.append([dic.index(i) for i in sentence[:-1]])\n",
    "        real_label.append([dic.index(i) for i in sentence[1:]])"
   ]
  },
  {
   "cell_type": "code",
   "execution_count": 5,
   "metadata": {},
   "outputs": [
    {
     "data": {
      "text/plain": [
       "[[26, 14, 6, 28, 27, 29, 29, 29, 29, 29, 29, 29, 29, 29, 29, 29, 29],\n",
       " [26, 15, 6, 17, 27, 29, 29, 29, 29, 29, 29, 29, 29, 29, 29, 29, 29],\n",
       " [26, 19, 16, 6, 2, 7, 6, 0, 6, 4, 6, 18, 6, 9, 6, 20, 27]]"
      ]
     },
     "execution_count": 5,
     "metadata": {},
     "output_type": "execute_result"
    }
   ],
   "source": [
    "fedic_encoder_x"
   ]
  },
  {
   "cell_type": "code",
   "execution_count": 6,
   "metadata": {},
   "outputs": [
    {
     "data": {
      "text/plain": [
       "[5, 5, 17]"
      ]
     },
     "execution_count": 6,
     "metadata": {},
     "output_type": "execute_result"
    }
   ],
   "source": [
    "fedic_encoder_seq_len_except_pad"
   ]
  },
  {
   "cell_type": "code",
   "execution_count": 7,
   "metadata": {},
   "outputs": [
    {
     "data": {
      "text/plain": [
       "[[26, 24, 6, 3, 27, 29, 29, 29, 29, 29, 29, 29, 29, 29],\n",
       " [26, 13, 6, 22, 6, 23, 6, 25, 6, 21, 27, 29, 29, 29],\n",
       " [26, 5, 6, 12, 6, 13, 6, 8, 6, 10, 6, 1, 6, 11]]"
      ]
     },
     "execution_count": 7,
     "metadata": {},
     "output_type": "execute_result"
    }
   ],
   "source": [
    "fedic_decoder_x"
   ]
  },
  {
   "cell_type": "code",
   "execution_count": 8,
   "metadata": {},
   "outputs": [
    {
     "data": {
      "text/plain": [
       "[4, 10, 14]"
      ]
     },
     "execution_count": 8,
     "metadata": {},
     "output_type": "execute_result"
    }
   ],
   "source": [
    "fedic_decoder_seq_len_except_pad"
   ]
  },
  {
   "cell_type": "code",
   "execution_count": 9,
   "metadata": {},
   "outputs": [
    {
     "data": {
      "text/plain": [
       "[[24, 6, 3, 27, 29, 29, 29, 29, 29, 29, 29, 29, 29, 29],\n",
       " [13, 6, 22, 6, 23, 6, 25, 6, 21, 27, 29, 29, 29, 29],\n",
       " [5, 6, 12, 6, 13, 6, 8, 6, 10, 6, 1, 6, 11, 27]]"
      ]
     },
     "execution_count": 9,
     "metadata": {},
     "output_type": "execute_result"
    }
   ],
   "source": [
    "real_label"
   ]
  },
  {
   "cell_type": "markdown",
   "metadata": {},
   "source": [
    "### 파라미터 설정"
   ]
  },
  {
   "cell_type": "code",
   "execution_count": 10,
   "metadata": {},
   "outputs": [],
   "source": [
    "number_of_document = None\n",
    "number_of_encoder_word = None\n",
    "number_of_decoder_word = None\n",
    "lstm_hidden_size = 200\n",
    "voca_size = len(dic)\n",
    "word_embedding_size = 30\n",
    "max_gradient_norm = 0.1\n",
    "learning_rate = 1e-4"
   ]
  },
  {
   "cell_type": "markdown",
   "metadata": {},
   "source": [
    "### label"
   ]
  },
  {
   "cell_type": "code",
   "execution_count": 11,
   "metadata": {},
   "outputs": [],
   "source": [
    "y = tf.placeholder(dtype=tf.int32, shape=[number_of_document, number_of_decoder_word])"
   ]
  },
  {
   "cell_type": "markdown",
   "metadata": {},
   "source": [
    "### encoder"
   ]
  },
  {
   "cell_type": "code",
   "execution_count": 12,
   "metadata": {},
   "outputs": [],
   "source": [
    "encoder_x = tf.placeholder(dtype=tf.int32, shape=[number_of_document, number_of_encoder_word])\n",
    "source_sequence_lengths = tf.placeholder(dtype=tf.int32, shape=[number_of_document])\n",
    "embedding_matrix = tf.get_variable(name=\"embeding_matrix\", shape=[voca_size, word_embedding_size],\n",
    "                                   dtype=tf.float32, initializer=tf.truncated_normal_initializer())\n",
    "encoder_emb_inp = tf.nn.embedding_lookup(params=embedding_matrix, ids=encoder_x, name=\"encoder_emb_inp\")\n",
    "encoder_cell = tf.nn.rnn_cell.LSTMCell(num_units=lstm_hidden_size,\n",
    "                                       initializer=tf.contrib.layers.variance_scaling_initializer())\n",
    "encoder_outputs, encoder_final_hidden_state = tf.nn.dynamic_rnn(cell=encoder_cell, inputs=encoder_emb_inp,\n",
    "                                                                sequence_length=source_sequence_lengths, dtype=tf.float32,\n",
    "                                                                scope=\"encoder_LSTM\")"
   ]
  },
  {
   "cell_type": "markdown",
   "metadata": {},
   "source": [
    "### decoder"
   ]
  },
  {
   "cell_type": "code",
   "execution_count": 13,
   "metadata": {},
   "outputs": [],
   "source": [
    "decoder_x = tf.placeholder(dtype=tf.int32, shape=[number_of_document, number_of_decoder_word])\n",
    "decoder_lengths = tf.placeholder(dtype=tf.int32, shape=[number_of_document])\n",
    "decoder_emb_inp = tf.nn.embedding_lookup(params=embedding_matrix, ids=decoder_x, name=\"decoder_embedded_x\")\n",
    "helper = tf.contrib.seq2seq.TrainingHelper(decoder_emb_inp, decoder_lengths)\n",
    "decoder_cell = tf.nn.rnn_cell.LSTMCell(num_units=lstm_hidden_size, initializer=tf.contrib.layers.variance_scaling_initializer())\n",
    "projection_layer = tf.layers.Dense(voca_size)\n",
    "decoder = tf.contrib.seq2seq.BasicDecoder(decoder_cell, helper, encoder_final_hidden_state, output_layer=projection_layer)\n",
    "decoder_outputs, decoder_final_hidden_state, decoder_final_sequence_length = tf.contrib.seq2seq.dynamic_decode(decoder=decoder)\n",
    "logits = decoder_outputs.rnn_output"
   ]
  },
  {
   "cell_type": "markdown",
   "metadata": {},
   "source": [
    "### loss"
   ]
  },
  {
   "cell_type": "code",
   "execution_count": 14,
   "metadata": {},
   "outputs": [],
   "source": [
    "crossent = tf.nn.softmax_cross_entropy_with_logits_v2(labels=tf.one_hot(y,voca_size), logits=logits)\n",
    "train_loss = tf.reduce_sum(crossent)"
   ]
  },
  {
   "cell_type": "markdown",
   "metadata": {},
   "source": [
    "### calculate and clip gradients"
   ]
  },
  {
   "cell_type": "code",
   "execution_count": 15,
   "metadata": {},
   "outputs": [],
   "source": [
    "params = tf.trainable_variables()\n",
    "gradients = tf.gradients(train_loss, params)\n",
    "clipped_gradients, _ = tf.clip_by_global_norm(gradients, max_gradient_norm) # gradient exploding 방지"
   ]
  },
  {
   "cell_type": "markdown",
   "metadata": {},
   "source": [
    "### optimization"
   ]
  },
  {
   "cell_type": "code",
   "execution_count": 16,
   "metadata": {},
   "outputs": [],
   "source": [
    "optimizer = tf.train.AdamOptimizer(learning_rate)\n",
    "update_step = optimizer.apply_gradients(zip(clipped_gradients, params))"
   ]
  },
  {
   "cell_type": "markdown",
   "metadata": {},
   "source": [
    "### training"
   ]
  },
  {
   "cell_type": "code",
   "execution_count": 17,
   "metadata": {},
   "outputs": [
    {
     "name": "stdout",
     "output_type": "stream",
     "text": [
      "sentence :  [\"can't can't can't 타임 proud 자랑스러워 자랑스러워 today today today today today today today \", \"can't 거 <sos> 거 <sos> <sos> <sos> 자랑스러워 <sos> 자랑스러워 자랑스러워 자랑스러워 자랑스러워 today \", '못 나 나 <sos> <sos> <sos> <sos> <sos> <sos> 너무 너무 너무 너무 너무 '] loss :  144.70341\n",
      "sentence :  ['time   out <eos> <pad> <pad> <pad> <pad> <pad> <pad> <pad> <pad> <pad> <pad> ', 'i   am   proud   of   you <eos> <pad> <pad> <pad> <pad> ', \"pan   and   i   can't   make   it   today <eos> \"] loss :  0.020985827\n",
      "sentence :  ['time   out <eos> <pad> <pad> <pad> <pad> <pad> <pad> <pad> <pad> <pad> <pad> ', 'i   am   proud   of   you <eos> <pad> <pad> <pad> <pad> ', \"pan   and   i   can't   make   it   today <eos> \"] loss :  0.0029478671\n",
      "sentence :  ['time   out <eos> <pad> <pad> <pad> <pad> <pad> <pad> <pad> <pad> <pad> <pad> ', 'i   am   proud   of   you <eos> <pad> <pad> <pad> <pad> ', \"pan   and   i   can't   make   it   today <eos> \"] loss :  0.0012734797\n"
     ]
    }
   ],
   "source": [
    "sess = tf.Session()\n",
    "sess.run(tf.global_variables_initializer())\n",
    "\n",
    "for i in range(2000):\n",
    "    _, print_loss = sess.run([update_step,train_loss], feed_dict={encoder_x:fedic_encoder_x,\n",
    "                                                                  source_sequence_lengths:fedic_encoder_seq_len_except_pad,\n",
    "                                                                  decoder_x:fedic_decoder_x,\n",
    "                                                                  decoder_lengths:fedic_decoder_seq_len_except_pad,\n",
    "                                                                  y:real_label})\n",
    "    if i%500 == 0 :\n",
    "        a1, a2 = sess.run([tf.argmax(tf.nn.softmax(logits), axis=2), train_loss], feed_dict={encoder_x: fedic_encoder_x,\n",
    "                                                                                             source_sequence_lengths: fedic_encoder_seq_len_except_pad,\n",
    "                                                                                             decoder_x: fedic_decoder_x,\n",
    "                                                                                             decoder_lengths: fedic_decoder_seq_len_except_pad, y: real_label})\n",
    "        print_list = []\n",
    "        for i in a1:\n",
    "            sen = \"\"\n",
    "            for j in i:\n",
    "                sen += dic[j]+\" \"\n",
    "            print_list.append(sen)\n",
    "\n",
    "        print(\"sentence : \", print_list, \"loss : \", a2)"
   ]
  },
  {
   "cell_type": "markdown",
   "metadata": {},
   "source": [
    "### model save"
   ]
  },
  {
   "cell_type": "code",
   "execution_count": 18,
   "metadata": {},
   "outputs": [
    {
     "data": {
      "text/plain": [
       "'/save/model.ckpt'"
      ]
     },
     "execution_count": 18,
     "metadata": {},
     "output_type": "execute_result"
    }
   ],
   "source": [
    "saver = tf.train.Saver()\n",
    "saver.save(sess, \"/save/model.ckpt\")"
   ]
  },
  {
   "cell_type": "markdown",
   "metadata": {},
   "source": [
    "### inference"
   ]
  },
  {
   "cell_type": "code",
   "execution_count": 20,
   "metadata": {},
   "outputs": [],
   "source": [
    "inf_text = [['<sos>', '나', ' ', '는', ' ', '자랑스러워', '<eos>']]\n",
    "fedic_inf_encoder_seq_len_except_pad = [len(i) for i in inf_text]\n",
    "fedic_inf_encoder_x = []\n",
    "for sentence in inf_text:\n",
    "    fedic_inf_encoder_x.append([dic.index(i) for i in sentence])\n",
    "fedic_inf_decoder_seq_len_except_pad = [1]\n",
    "fedic_inf_decoder_x = [[dic.index('<sos>')]]\n",
    "\n",
    "result = []\n",
    "next_word = '<sos>'\n",
    "\n",
    "for count in range(50):\n",
    "    next_word = sess.run(tf.argmax(logits, axis=2), feed_dict={encoder_x: fedic_inf_encoder_x,\n",
    "                                                               source_sequence_lengths: fedic_inf_encoder_seq_len_except_pad,\n",
    "                                                               decoder_x: fedic_inf_decoder_x,\n",
    "                                                               decoder_lengths: fedic_inf_decoder_seq_len_except_pad})\n",
    "\n",
    "    fedic_inf_decoder_x = [list(chain(*([[dic.index('<sos>')]] + next_word.tolist())))]\n",
    "    fedic_inf_decoder_seq_len_except_pad = [len(fedic_inf_decoder_x[0])]\n",
    "    next_word = dic[fedic_inf_decoder_x[0][-1]]\n",
    "    if next_word == '<eos>':\n",
    "        break\n",
    "\n",
    "for inf_sen in fedic_inf_decoder_x:\n",
    "    for inf_word in inf_sen:\n",
    "        result.append(dic[inf_word])"
   ]
  },
  {
   "cell_type": "markdown",
   "metadata": {},
   "source": [
    "### inference result"
   ]
  },
  {
   "cell_type": "code",
   "execution_count": 22,
   "metadata": {},
   "outputs": [
    {
     "data": {
      "text/plain": [
       "['<sos>', 'i', ' ', 'am', ' ', 'proud', ' ', 'of', ' ', 'you', '<eos>']"
      ]
     },
     "execution_count": 22,
     "metadata": {},
     "output_type": "execute_result"
    }
   ],
   "source": [
    "result"
   ]
  }
 ],
 "metadata": {
  "anaconda-cloud": {},
  "kernelspec": {
   "display_name": "Python 3",
   "language": "python",
   "name": "python3"
  },
  "language_info": {
   "codemirror_mode": {
    "name": "ipython",
    "version": 3
   },
   "file_extension": ".py",
   "mimetype": "text/x-python",
   "name": "python",
   "nbconvert_exporter": "python",
   "pygments_lexer": "ipython3",
   "version": "3.6.5"
  }
 },
 "nbformat": 4,
 "nbformat_minor": 2
}
